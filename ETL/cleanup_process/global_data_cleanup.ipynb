{
 "cells": [
  {
   "cell_type": "code",
   "execution_count": 1,
   "metadata": {
    "scrolled": true
   },
   "outputs": [],
   "source": [
    "# Dependencies and Setup\n",
    "import pandas as pd\n",
    "\n",
    "from sqlalchemy import create_engine\n",
    "from sqlalchemy.ext.declarative import declarative_base\n",
    "from sqlalchemy import Column, Integer, String, Float\n",
    "from sqlalchemy.orm import Session\n",
    "\n",
    "from config import username, password, host, database"
   ]
  },
  {
   "cell_type": "code",
   "execution_count": 2,
   "metadata": {
    "scrolled": true
   },
   "outputs": [
    {
     "data": {
      "text/html": [
       "<div>\n",
       "<style scoped>\n",
       "    .dataframe tbody tr th:only-of-type {\n",
       "        vertical-align: middle;\n",
       "    }\n",
       "\n",
       "    .dataframe tbody tr th {\n",
       "        vertical-align: top;\n",
       "    }\n",
       "\n",
       "    .dataframe thead th {\n",
       "        text-align: right;\n",
       "    }\n",
       "</style>\n",
       "<table border=\"1\" class=\"dataframe\">\n",
       "  <thead>\n",
       "    <tr style=\"text-align: right;\">\n",
       "      <th></th>\n",
       "      <th>name</th>\n",
       "      <th>mmr</th>\n",
       "      <th>category</th>\n",
       "      <th>location</th>\n",
       "      <th>country</th>\n",
       "    </tr>\n",
       "  </thead>\n",
       "  <tbody>\n",
       "    <tr>\n",
       "      <th>0</th>\n",
       "      <td>Belarus</td>\n",
       "      <td>2</td>\n",
       "      <td>Very Low (&lt;100)</td>\n",
       "      <td>53.744 27.947</td>\n",
       "      <td>Belarus</td>\n",
       "    </tr>\n",
       "    <tr>\n",
       "      <th>1</th>\n",
       "      <td>Italy</td>\n",
       "      <td>2</td>\n",
       "      <td>Very Low (&lt;100)</td>\n",
       "      <td>45.3889 10.7776</td>\n",
       "      <td>Italy</td>\n",
       "    </tr>\n",
       "    <tr>\n",
       "      <th>2</th>\n",
       "      <td>Norway</td>\n",
       "      <td>2</td>\n",
       "      <td>Very Low (&lt;100)</td>\n",
       "      <td>60.5366 7.4496</td>\n",
       "      <td>Norway</td>\n",
       "    </tr>\n",
       "    <tr>\n",
       "      <th>3</th>\n",
       "      <td>Poland</td>\n",
       "      <td>2</td>\n",
       "      <td>Very Low (&lt;100)</td>\n",
       "      <td>52.1484 19.311</td>\n",
       "      <td>Poland</td>\n",
       "    </tr>\n",
       "    <tr>\n",
       "      <th>4</th>\n",
       "      <td>Czechia</td>\n",
       "      <td>3</td>\n",
       "      <td>Very Low (&lt;100)</td>\n",
       "      <td>49.836 15.5465</td>\n",
       "      <td>Czechia</td>\n",
       "    </tr>\n",
       "  </tbody>\n",
       "</table>\n",
       "</div>"
      ],
      "text/plain": [
       "      name  mmr         category         location  country\n",
       "0  Belarus    2  Very Low (<100)    53.744 27.947  Belarus\n",
       "1    Italy    2  Very Low (<100)  45.3889 10.7776    Italy\n",
       "2   Norway    2  Very Low (<100)   60.5366 7.4496   Norway\n",
       "3   Poland    2  Very Low (<100)   52.1484 19.311   Poland\n",
       "4  Czechia    3  Very Low (<100)   49.836 15.5465  Czechia"
      ]
     },
     "execution_count": 2,
     "metadata": {},
     "output_type": "execute_result"
    }
   ],
   "source": [
    "# File path\n",
    "global_filepath = '../Resources/mmr_global.csv'\n",
    "\n",
    "# Read in csv file\n",
    "mmr_global_df = pd.read_csv(global_filepath, names=['name', 'mmr', 'category', 'location', 'country'])\n",
    "\n",
    "# Display dataframe\n",
    "mmr_global_df.head()"
   ]
  },
  {
   "cell_type": "code",
   "execution_count": 3,
   "metadata": {
    "scrolled": true
   },
   "outputs": [
    {
     "data": {
      "text/html": [
       "<div>\n",
       "<style scoped>\n",
       "    .dataframe tbody tr th:only-of-type {\n",
       "        vertical-align: middle;\n",
       "    }\n",
       "\n",
       "    .dataframe tbody tr th {\n",
       "        vertical-align: top;\n",
       "    }\n",
       "\n",
       "    .dataframe thead th {\n",
       "        text-align: right;\n",
       "    }\n",
       "</style>\n",
       "<table border=\"1\" class=\"dataframe\">\n",
       "  <thead>\n",
       "    <tr style=\"text-align: right;\">\n",
       "      <th></th>\n",
       "      <th>name</th>\n",
       "      <th>mmr</th>\n",
       "      <th>category</th>\n",
       "      <th>location</th>\n",
       "      <th>country</th>\n",
       "      <th>latitude</th>\n",
       "      <th>longitude</th>\n",
       "    </tr>\n",
       "  </thead>\n",
       "  <tbody>\n",
       "    <tr>\n",
       "      <th>0</th>\n",
       "      <td>Belarus</td>\n",
       "      <td>2</td>\n",
       "      <td>Very Low (&lt;100)</td>\n",
       "      <td>53.744 27.947</td>\n",
       "      <td>Belarus</td>\n",
       "      <td>53.744</td>\n",
       "      <td>27.947</td>\n",
       "    </tr>\n",
       "    <tr>\n",
       "      <th>1</th>\n",
       "      <td>Italy</td>\n",
       "      <td>2</td>\n",
       "      <td>Very Low (&lt;100)</td>\n",
       "      <td>45.3889 10.7776</td>\n",
       "      <td>Italy</td>\n",
       "      <td>45.3889</td>\n",
       "      <td>10.7776</td>\n",
       "    </tr>\n",
       "    <tr>\n",
       "      <th>2</th>\n",
       "      <td>Norway</td>\n",
       "      <td>2</td>\n",
       "      <td>Very Low (&lt;100)</td>\n",
       "      <td>60.5366 7.4496</td>\n",
       "      <td>Norway</td>\n",
       "      <td>60.5366</td>\n",
       "      <td>7.4496</td>\n",
       "    </tr>\n",
       "    <tr>\n",
       "      <th>3</th>\n",
       "      <td>Poland</td>\n",
       "      <td>2</td>\n",
       "      <td>Very Low (&lt;100)</td>\n",
       "      <td>52.1484 19.311</td>\n",
       "      <td>Poland</td>\n",
       "      <td>52.1484</td>\n",
       "      <td>19.311</td>\n",
       "    </tr>\n",
       "    <tr>\n",
       "      <th>4</th>\n",
       "      <td>Czechia</td>\n",
       "      <td>3</td>\n",
       "      <td>Very Low (&lt;100)</td>\n",
       "      <td>49.836 15.5465</td>\n",
       "      <td>Czechia</td>\n",
       "      <td>49.836</td>\n",
       "      <td>15.5465</td>\n",
       "    </tr>\n",
       "  </tbody>\n",
       "</table>\n",
       "</div>"
      ],
      "text/plain": [
       "      name  mmr         category         location  country latitude longitude\n",
       "0  Belarus    2  Very Low (<100)    53.744 27.947  Belarus   53.744    27.947\n",
       "1    Italy    2  Very Low (<100)  45.3889 10.7776    Italy  45.3889   10.7776\n",
       "2   Norway    2  Very Low (<100)   60.5366 7.4496   Norway  60.5366    7.4496\n",
       "3   Poland    2  Very Low (<100)   52.1484 19.311   Poland  52.1484    19.311\n",
       "4  Czechia    3  Very Low (<100)   49.836 15.5465  Czechia   49.836   15.5465"
      ]
     },
     "execution_count": 3,
     "metadata": {},
     "output_type": "execute_result"
    }
   ],
   "source": [
    "# Assign lat and lng columns\n",
    "mmr_global_df['latitude'] = \"\"\n",
    "mmr_global_df['longitude'] = \"\"\n",
    "\n",
    "for index in mmr_global_df.index:\n",
    "    location = mmr_global_df.loc[index, 'location'].split(\" \")\n",
    "    lat = location[0]\n",
    "    lng = location[1]\n",
    "    mmr_global_df.loc[index, 'latitude'] = lat\n",
    "    mmr_global_df.loc[index, 'longitude'] = lng\n",
    "\n",
    "mmr_global_df.head()       "
   ]
  },
  {
   "cell_type": "code",
   "execution_count": 4,
   "metadata": {
    "scrolled": true
   },
   "outputs": [
    {
     "data": {
      "text/html": [
       "<div>\n",
       "<style scoped>\n",
       "    .dataframe tbody tr th:only-of-type {\n",
       "        vertical-align: middle;\n",
       "    }\n",
       "\n",
       "    .dataframe tbody tr th {\n",
       "        vertical-align: top;\n",
       "    }\n",
       "\n",
       "    .dataframe thead th {\n",
       "        text-align: right;\n",
       "    }\n",
       "</style>\n",
       "<table border=\"1\" class=\"dataframe\">\n",
       "  <thead>\n",
       "    <tr style=\"text-align: right;\">\n",
       "      <th></th>\n",
       "      <th>name</th>\n",
       "      <th>mmr</th>\n",
       "      <th>category</th>\n",
       "      <th>latitude</th>\n",
       "      <th>longitude</th>\n",
       "    </tr>\n",
       "    <tr>\n",
       "      <th>id</th>\n",
       "      <th></th>\n",
       "      <th></th>\n",
       "      <th></th>\n",
       "      <th></th>\n",
       "      <th></th>\n",
       "    </tr>\n",
       "  </thead>\n",
       "  <tbody>\n",
       "    <tr>\n",
       "      <th>0</th>\n",
       "      <td>Belarus</td>\n",
       "      <td>2</td>\n",
       "      <td>Very Low (&lt;100)</td>\n",
       "      <td>53.744</td>\n",
       "      <td>27.947</td>\n",
       "    </tr>\n",
       "    <tr>\n",
       "      <th>1</th>\n",
       "      <td>Italy</td>\n",
       "      <td>2</td>\n",
       "      <td>Very Low (&lt;100)</td>\n",
       "      <td>45.3889</td>\n",
       "      <td>10.7776</td>\n",
       "    </tr>\n",
       "    <tr>\n",
       "      <th>2</th>\n",
       "      <td>Norway</td>\n",
       "      <td>2</td>\n",
       "      <td>Very Low (&lt;100)</td>\n",
       "      <td>60.5366</td>\n",
       "      <td>7.4496</td>\n",
       "    </tr>\n",
       "    <tr>\n",
       "      <th>3</th>\n",
       "      <td>Poland</td>\n",
       "      <td>2</td>\n",
       "      <td>Very Low (&lt;100)</td>\n",
       "      <td>52.1484</td>\n",
       "      <td>19.311</td>\n",
       "    </tr>\n",
       "    <tr>\n",
       "      <th>4</th>\n",
       "      <td>Czechia</td>\n",
       "      <td>3</td>\n",
       "      <td>Very Low (&lt;100)</td>\n",
       "      <td>49.836</td>\n",
       "      <td>15.5465</td>\n",
       "    </tr>\n",
       "  </tbody>\n",
       "</table>\n",
       "</div>"
      ],
      "text/plain": [
       "       name  mmr         category latitude longitude\n",
       "id                                                  \n",
       "0   Belarus    2  Very Low (<100)   53.744    27.947\n",
       "1     Italy    2  Very Low (<100)  45.3889   10.7776\n",
       "2    Norway    2  Very Low (<100)  60.5366    7.4496\n",
       "3    Poland    2  Very Low (<100)  52.1484    19.311\n",
       "4   Czechia    3  Very Low (<100)   49.836   15.5465"
      ]
     },
     "execution_count": 4,
     "metadata": {},
     "output_type": "execute_result"
    }
   ],
   "source": [
    "# Column selection\n",
    "mmr_global_df_cleaned_df = mmr_global_df[['name', 'mmr', 'category', 'latitude', 'longitude']].copy()\n",
    "mmr_global_df_cleaned_df.index.name = 'id'\n",
    "\n",
    "# Display dataframe\n",
    "mmr_global_df_cleaned_df.head()"
   ]
  },
  {
   "cell_type": "code",
   "execution_count": 5,
   "metadata": {
    "scrolled": true
   },
   "outputs": [],
   "source": [
    "# csv filepath\n",
    "global_csv = '../output_file/mmr_global.csv'\n",
    "\n",
    "mmr_global_df_cleaned_df.to_csv(global_csv, index=False)"
   ]
  },
  {
   "cell_type": "markdown",
   "metadata": {},
   "source": [
    "### Connect to PostgresSQL database"
   ]
  },
  {
   "cell_type": "code",
   "execution_count": 6,
   "metadata": {
    "scrolled": true
   },
   "outputs": [],
   "source": [
    "# Sets an object to utilize the default declarative base in SQL Alchemy\n",
    "Base = declarative_base()"
   ]
  },
  {
   "cell_type": "code",
   "execution_count": 7,
   "metadata": {
    "scrolled": true
   },
   "outputs": [],
   "source": [
    "# Create table schema\n",
    "class Global(Base):\n",
    "    __tablename__ = 'mmr_global'\n",
    "    name = Column(String(255), primary_key=True)\n",
    "    mmr = Column(Integer)\n",
    "    category = Column(String)\n",
    "    latitude = Column(Integer)\n",
    "    longitude = Column(Integer)"
   ]
  },
  {
   "cell_type": "code",
   "execution_count": 8,
   "metadata": {
    "scrolled": true
   },
   "outputs": [],
   "source": [
    "# Create Engine for mmr_global\n",
    "connect_string = f'postgresql://{username}:{password}@{host}/{database}'\n",
    "engine = create_engine(connect_string)"
   ]
  },
  {
   "cell_type": "code",
   "execution_count": 9,
   "metadata": {
    "scrolled": true
   },
   "outputs": [],
   "source": [
    "# Create (if not already in existence) the tables associated with our classes.\n",
    "Base.metadata.create_all(engine)"
   ]
  },
  {
   "cell_type": "code",
   "execution_count": 10,
   "metadata": {
    "scrolled": true
   },
   "outputs": [],
   "source": [
    "# Store data to SQL database\n",
    "mmr_global_df_cleaned_df.to_sql(name='mmr_global', con=engine, if_exists='replace', index=False)"
   ]
  },
  {
   "cell_type": "code",
   "execution_count": 19,
   "metadata": {},
   "outputs": [
    {
     "data": {
      "text/html": [
       "<div>\n",
       "<style scoped>\n",
       "    .dataframe tbody tr th:only-of-type {\n",
       "        vertical-align: middle;\n",
       "    }\n",
       "\n",
       "    .dataframe tbody tr th {\n",
       "        vertical-align: top;\n",
       "    }\n",
       "\n",
       "    .dataframe thead th {\n",
       "        text-align: right;\n",
       "    }\n",
       "</style>\n",
       "<table border=\"1\" class=\"dataframe\">\n",
       "  <thead>\n",
       "    <tr style=\"text-align: right;\">\n",
       "      <th></th>\n",
       "      <th>name</th>\n",
       "      <th>mmr</th>\n",
       "      <th>category</th>\n",
       "      <th>latitude</th>\n",
       "      <th>longitude</th>\n",
       "    </tr>\n",
       "  </thead>\n",
       "  <tbody>\n",
       "    <tr>\n",
       "      <th>0</th>\n",
       "      <td>Belarus</td>\n",
       "      <td>2</td>\n",
       "      <td>Very Low (&lt;100)</td>\n",
       "      <td>53.744</td>\n",
       "      <td>27.947</td>\n",
       "    </tr>\n",
       "    <tr>\n",
       "      <th>1</th>\n",
       "      <td>Italy</td>\n",
       "      <td>2</td>\n",
       "      <td>Very Low (&lt;100)</td>\n",
       "      <td>45.3889</td>\n",
       "      <td>10.7776</td>\n",
       "    </tr>\n",
       "    <tr>\n",
       "      <th>2</th>\n",
       "      <td>Norway</td>\n",
       "      <td>2</td>\n",
       "      <td>Very Low (&lt;100)</td>\n",
       "      <td>60.5366</td>\n",
       "      <td>7.4496</td>\n",
       "    </tr>\n",
       "    <tr>\n",
       "      <th>3</th>\n",
       "      <td>Poland</td>\n",
       "      <td>2</td>\n",
       "      <td>Very Low (&lt;100)</td>\n",
       "      <td>52.1484</td>\n",
       "      <td>19.311</td>\n",
       "    </tr>\n",
       "    <tr>\n",
       "      <th>4</th>\n",
       "      <td>Czechia</td>\n",
       "      <td>3</td>\n",
       "      <td>Very Low (&lt;100)</td>\n",
       "      <td>49.836</td>\n",
       "      <td>15.5465</td>\n",
       "    </tr>\n",
       "  </tbody>\n",
       "</table>\n",
       "</div>"
      ],
      "text/plain": [
       "      name  mmr         category latitude longitude\n",
       "0  Belarus    2  Very Low (<100)   53.744    27.947\n",
       "1    Italy    2  Very Low (<100)  45.3889   10.7776\n",
       "2   Norway    2  Very Low (<100)  60.5366    7.4496\n",
       "3   Poland    2  Very Low (<100)  52.1484    19.311\n",
       "4  Czechia    3  Very Low (<100)   49.836   15.5465"
      ]
     },
     "execution_count": 19,
     "metadata": {},
     "output_type": "execute_result"
    }
   ],
   "source": [
    "# Check of the table exists in database\n",
    "pd.read_sql_query('select * from mmr_global', con=engine).head()"
   ]
  },
  {
   "cell_type": "markdown",
   "metadata": {},
   "source": [
    "### Connect to SQLite local file"
   ]
  },
  {
   "cell_type": "code",
   "execution_count": 29,
   "metadata": {},
   "outputs": [],
   "source": [
    "# Creates a connection to our DB\n",
    "database_localpath = 'sqlite:///maternal_mortality.sqlite'\n",
    "local_engine = create_engine(database_localpath)\n",
    "conn = local_engine.connect()"
   ]
  },
  {
   "cell_type": "code",
   "execution_count": 30,
   "metadata": {},
   "outputs": [],
   "source": [
    "# Create (if not already in existence) the tables associated with our classes.\n",
    "Base.metadata.create_all(local_engine)"
   ]
  },
  {
   "cell_type": "code",
   "execution_count": null,
   "metadata": {},
   "outputs": [],
   "source": []
  }
 ],
 "metadata": {
  "kernelspec": {
   "display_name": "Python 3",
   "language": "python",
   "name": "python3"
  },
  "language_info": {
   "codemirror_mode": {
    "name": "ipython",
    "version": 3
   },
   "file_extension": ".py",
   "mimetype": "text/x-python",
   "name": "python",
   "nbconvert_exporter": "python",
   "pygments_lexer": "ipython3",
   "version": "3.6.10"
  }
 },
 "nbformat": 4,
 "nbformat_minor": 4
}

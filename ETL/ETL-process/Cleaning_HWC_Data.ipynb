{
 "cells": [
  {
   "cell_type": "code",
   "execution_count": 2,
   "metadata": {},
   "outputs": [],
   "source": [
    "import pandas as pd\n",
    "import re"
   ]
  },
  {
   "cell_type": "code",
   "execution_count": 3,
   "metadata": {},
   "outputs": [],
   "source": [
    "data_2019 = pd.read_csv(\"../Resources/2019-HWC.csv\")"
   ]
  },
  {
   "cell_type": "markdown",
   "metadata": {},
   "source": [
    "# 2019 Data"
   ]
  },
  {
   "cell_type": "code",
   "execution_count": 4,
   "metadata": {
    "scrolled": true
   },
   "outputs": [
    {
     "name": "stderr",
     "output_type": "stream",
     "text": [
      "/Users/abpuccini/opt/anaconda3/envs/PythonData/lib/python3.6/site-packages/pandas/core/frame.py:4133: SettingWithCopyWarning: \n",
      "A value is trying to be set on a copy of a slice from a DataFrame\n",
      "\n",
      "See the caveats in the documentation: https://pandas.pydata.org/pandas-docs/stable/user_guide/indexing.html#returning-a-view-versus-a-copy\n",
      "  errors=errors,\n",
      "/Users/abpuccini/opt/anaconda3/envs/PythonData/lib/python3.6/site-packages/pandas/core/frame.py:3997: SettingWithCopyWarning: \n",
      "A value is trying to be set on a copy of a slice from a DataFrame\n",
      "\n",
      "See the caveats in the documentation: https://pandas.pydata.org/pandas-docs/stable/user_guide/indexing.html#returning-a-view-versus-a-copy\n",
      "  errors=errors,\n"
     ]
    },
    {
     "data": {
      "text/html": [
       "<div>\n",
       "<style scoped>\n",
       "    .dataframe tbody tr th:only-of-type {\n",
       "        vertical-align: middle;\n",
       "    }\n",
       "\n",
       "    .dataframe tbody tr th {\n",
       "        vertical-align: top;\n",
       "    }\n",
       "\n",
       "    .dataframe thead th {\n",
       "        text-align: right;\n",
       "    }\n",
       "</style>\n",
       "<table border=\"1\" class=\"dataframe\">\n",
       "  <thead>\n",
       "    <tr style=\"text-align: right;\">\n",
       "      <th></th>\n",
       "      <th>state_name</th>\n",
       "      <th>ahi_rank</th>\n",
       "      <th>ahi_value</th>\n",
       "      <th>ahi_score</th>\n",
       "      <th>ahi_lower_ci</th>\n",
       "      <th>ahi_upper_ci</th>\n",
       "    </tr>\n",
       "  </thead>\n",
       "  <tbody>\n",
       "    <tr>\n",
       "      <th>0</th>\n",
       "      <td>Alaska</td>\n",
       "      <td>8.0</td>\n",
       "      <td>78.5</td>\n",
       "      <td>1.00</td>\n",
       "      <td>81.5</td>\n",
       "      <td>75.5</td>\n",
       "    </tr>\n",
       "    <tr>\n",
       "      <th>1</th>\n",
       "      <td>Alabama</td>\n",
       "      <td>2.0</td>\n",
       "      <td>81.2</td>\n",
       "      <td>1.63</td>\n",
       "      <td>84.2</td>\n",
       "      <td>78.1</td>\n",
       "    </tr>\n",
       "    <tr>\n",
       "      <th>2</th>\n",
       "      <td>United States</td>\n",
       "      <td>NaN</td>\n",
       "      <td>74.4</td>\n",
       "      <td>NaN</td>\n",
       "      <td>75.1</td>\n",
       "      <td>73.6</td>\n",
       "    </tr>\n",
       "    <tr>\n",
       "      <th>3</th>\n",
       "      <td>Arkansas</td>\n",
       "      <td>6.0</td>\n",
       "      <td>78.9</td>\n",
       "      <td>1.08</td>\n",
       "      <td>82.2</td>\n",
       "      <td>75.6</td>\n",
       "    </tr>\n",
       "    <tr>\n",
       "      <th>4</th>\n",
       "      <td>Arizona</td>\n",
       "      <td>35.0</td>\n",
       "      <td>72.1</td>\n",
       "      <td>-0.54</td>\n",
       "      <td>75.5</td>\n",
       "      <td>68.7</td>\n",
       "    </tr>\n",
       "  </tbody>\n",
       "</table>\n",
       "</div>"
      ],
      "text/plain": [
       "      state_name  ahi_rank  ahi_value  ahi_score  ahi_lower_ci  ahi_upper_ci\n",
       "0         Alaska       8.0       78.5       1.00          81.5          75.5\n",
       "1        Alabama       2.0       81.2       1.63          84.2          78.1\n",
       "2  United States       NaN       74.4        NaN          75.1          73.6\n",
       "3       Arkansas       6.0       78.9       1.08          82.2          75.6\n",
       "4        Arizona      35.0       72.1      -0.54          75.5          68.7"
      ]
     },
     "execution_count": 4,
     "metadata": {},
     "output_type": "execute_result"
    }
   ],
   "source": [
    "adequate_health_insurance_2019 = data_2019[data_2019['Measure Name'].str.contains(\"Adequate Health Insurance\")]\n",
    "adequate_health_insurance_2019.reset_index(drop=True, inplace=True)\n",
    "adequate_health_insurance_2019.rename(columns={\"State Name\": \"state_name\", \"Rank\": \"ahi_rank\", \"Value\": \"ahi_value\", \"Score\": \"ahi_score\", \"Lower CI\" : \"ahi_lower_ci\", \"Upper CI\" : \"ahi_upper_ci\"}, inplace=True)\n",
    "adequate_health_insurance_2019.drop(columns=['Edition', 'Measure Name', 'Report Type', 'Source', 'Source Year'], inplace=True)\n",
    "adequate_health_insurance_2019.head()"
   ]
  },
  {
   "cell_type": "code",
   "execution_count": 5,
   "metadata": {},
   "outputs": [
    {
     "name": "stderr",
     "output_type": "stream",
     "text": [
      "/Users/abpuccini/opt/anaconda3/envs/PythonData/lib/python3.6/site-packages/pandas/core/frame.py:4133: SettingWithCopyWarning: \n",
      "A value is trying to be set on a copy of a slice from a DataFrame\n",
      "\n",
      "See the caveats in the documentation: https://pandas.pydata.org/pandas-docs/stable/user_guide/indexing.html#returning-a-view-versus-a-copy\n",
      "  errors=errors,\n",
      "/Users/abpuccini/opt/anaconda3/envs/PythonData/lib/python3.6/site-packages/pandas/core/frame.py:3997: SettingWithCopyWarning: \n",
      "A value is trying to be set on a copy of a slice from a DataFrame\n",
      "\n",
      "See the caveats in the documentation: https://pandas.pydata.org/pandas-docs/stable/user_guide/indexing.html#returning-a-view-versus-a-copy\n",
      "  errors=errors,\n"
     ]
    },
    {
     "data": {
      "text/html": [
       "<div>\n",
       "<style scoped>\n",
       "    .dataframe tbody tr th:only-of-type {\n",
       "        vertical-align: middle;\n",
       "    }\n",
       "\n",
       "    .dataframe tbody tr th {\n",
       "        vertical-align: top;\n",
       "    }\n",
       "\n",
       "    .dataframe thead th {\n",
       "        text-align: right;\n",
       "    }\n",
       "</style>\n",
       "<table border=\"1\" class=\"dataframe\">\n",
       "  <thead>\n",
       "    <tr style=\"text-align: right;\">\n",
       "      <th></th>\n",
       "      <th>state_name</th>\n",
       "      <th>ai_rank</th>\n",
       "      <th>ai_value</th>\n",
       "      <th>ai_score</th>\n",
       "      <th>ai_lower_ci</th>\n",
       "      <th>ai_upper_ci</th>\n",
       "    </tr>\n",
       "  </thead>\n",
       "  <tbody>\n",
       "    <tr>\n",
       "      <th>0</th>\n",
       "      <td>Alabama</td>\n",
       "      <td>10.0</td>\n",
       "      <td>71.1</td>\n",
       "      <td>0.77</td>\n",
       "      <td>74.9</td>\n",
       "      <td>67.2</td>\n",
       "    </tr>\n",
       "    <tr>\n",
       "      <th>1</th>\n",
       "      <td>Alaska</td>\n",
       "      <td>18.0</td>\n",
       "      <td>69.3</td>\n",
       "      <td>0.38</td>\n",
       "      <td>73.2</td>\n",
       "      <td>65.5</td>\n",
       "    </tr>\n",
       "    <tr>\n",
       "      <th>2</th>\n",
       "      <td>Arizona</td>\n",
       "      <td>44.0</td>\n",
       "      <td>62.8</td>\n",
       "      <td>-1.00</td>\n",
       "      <td>66.8</td>\n",
       "      <td>58.8</td>\n",
       "    </tr>\n",
       "    <tr>\n",
       "      <th>3</th>\n",
       "      <td>Arkansas</td>\n",
       "      <td>15.0</td>\n",
       "      <td>69.8</td>\n",
       "      <td>0.49</td>\n",
       "      <td>73.7</td>\n",
       "      <td>65.9</td>\n",
       "    </tr>\n",
       "    <tr>\n",
       "      <th>4</th>\n",
       "      <td>California</td>\n",
       "      <td>5.0</td>\n",
       "      <td>73.4</td>\n",
       "      <td>1.26</td>\n",
       "      <td>77.2</td>\n",
       "      <td>69.6</td>\n",
       "    </tr>\n",
       "  </tbody>\n",
       "</table>\n",
       "</div>"
      ],
      "text/plain": [
       "   state_name  ai_rank  ai_value  ai_score  ai_lower_ci  ai_upper_ci\n",
       "0     Alabama     10.0      71.1      0.77         74.9         67.2\n",
       "1      Alaska     18.0      69.3      0.38         73.2         65.5\n",
       "2     Arizona     44.0      62.8     -1.00         66.8         58.8\n",
       "3    Arkansas     15.0      69.8      0.49         73.7         65.9\n",
       "4  California      5.0      73.4      1.26         77.2         69.6"
      ]
     },
     "execution_count": 5,
     "metadata": {},
     "output_type": "execute_result"
    }
   ],
   "source": [
    "adequate_insurance_2019 = data_2019[data_2019['Measure Name'].str.contains(\"Adequate Insurance\")]\n",
    "adequate_insurance_2019.reset_index(drop=True, inplace=True)\n",
    "adequate_insurance_2019.rename(columns={\"State Name\": \"state_name\", \"Rank\": \"ai_rank\", \"Value\": \"ai_value\", \"Score\": \"ai_score\", \"Lower CI\" : \"ai_lower_ci\", \"Upper CI\" : \"ai_upper_ci\"}, inplace=True)\n",
    "adequate_insurance_2019.drop(columns=['Edition', 'Measure Name', 'Report Type', 'Source', 'Source Year'], inplace=True)\n",
    "adequate_insurance_2019.head()"
   ]
  },
  {
   "cell_type": "code",
   "execution_count": 6,
   "metadata": {},
   "outputs": [
    {
     "data": {
      "text/html": [
       "<div>\n",
       "<style scoped>\n",
       "    .dataframe tbody tr th:only-of-type {\n",
       "        vertical-align: middle;\n",
       "    }\n",
       "\n",
       "    .dataframe tbody tr th {\n",
       "        vertical-align: top;\n",
       "    }\n",
       "\n",
       "    .dataframe thead th {\n",
       "        text-align: right;\n",
       "    }\n",
       "</style>\n",
       "<table border=\"1\" class=\"dataframe\">\n",
       "  <thead>\n",
       "    <tr style=\"text-align: right;\">\n",
       "      <th></th>\n",
       "      <th>state_name</th>\n",
       "      <th>ahi_rank</th>\n",
       "      <th>ahi_value</th>\n",
       "      <th>ahi_score</th>\n",
       "      <th>ahi_lower_ci</th>\n",
       "      <th>ahi_upper_ci</th>\n",
       "      <th>ai_rank</th>\n",
       "      <th>ai_value</th>\n",
       "      <th>ai_score</th>\n",
       "      <th>ai_lower_ci</th>\n",
       "      <th>ai_upper_ci</th>\n",
       "    </tr>\n",
       "  </thead>\n",
       "  <tbody>\n",
       "    <tr>\n",
       "      <th>0</th>\n",
       "      <td>Alaska</td>\n",
       "      <td>8.0</td>\n",
       "      <td>78.5</td>\n",
       "      <td>1.00</td>\n",
       "      <td>81.5</td>\n",
       "      <td>75.5</td>\n",
       "      <td>18.0</td>\n",
       "      <td>69.3</td>\n",
       "      <td>0.38</td>\n",
       "      <td>73.2</td>\n",
       "      <td>65.5</td>\n",
       "    </tr>\n",
       "    <tr>\n",
       "      <th>1</th>\n",
       "      <td>Alabama</td>\n",
       "      <td>2.0</td>\n",
       "      <td>81.2</td>\n",
       "      <td>1.63</td>\n",
       "      <td>84.2</td>\n",
       "      <td>78.1</td>\n",
       "      <td>10.0</td>\n",
       "      <td>71.1</td>\n",
       "      <td>0.77</td>\n",
       "      <td>74.9</td>\n",
       "      <td>67.2</td>\n",
       "    </tr>\n",
       "    <tr>\n",
       "      <th>2</th>\n",
       "      <td>United States</td>\n",
       "      <td>NaN</td>\n",
       "      <td>74.4</td>\n",
       "      <td>NaN</td>\n",
       "      <td>75.1</td>\n",
       "      <td>73.6</td>\n",
       "      <td>NaN</td>\n",
       "      <td>67.5</td>\n",
       "      <td>NaN</td>\n",
       "      <td>68.4</td>\n",
       "      <td>66.6</td>\n",
       "    </tr>\n",
       "    <tr>\n",
       "      <th>3</th>\n",
       "      <td>Arkansas</td>\n",
       "      <td>6.0</td>\n",
       "      <td>78.9</td>\n",
       "      <td>1.08</td>\n",
       "      <td>82.2</td>\n",
       "      <td>75.6</td>\n",
       "      <td>15.0</td>\n",
       "      <td>69.8</td>\n",
       "      <td>0.49</td>\n",
       "      <td>73.7</td>\n",
       "      <td>65.9</td>\n",
       "    </tr>\n",
       "    <tr>\n",
       "      <th>4</th>\n",
       "      <td>Arizona</td>\n",
       "      <td>35.0</td>\n",
       "      <td>72.1</td>\n",
       "      <td>-0.54</td>\n",
       "      <td>75.5</td>\n",
       "      <td>68.7</td>\n",
       "      <td>44.0</td>\n",
       "      <td>62.8</td>\n",
       "      <td>-1.00</td>\n",
       "      <td>66.8</td>\n",
       "      <td>58.8</td>\n",
       "    </tr>\n",
       "  </tbody>\n",
       "</table>\n",
       "</div>"
      ],
      "text/plain": [
       "      state_name  ahi_rank  ahi_value  ahi_score  ahi_lower_ci  ahi_upper_ci  \\\n",
       "0         Alaska       8.0       78.5       1.00          81.5          75.5   \n",
       "1        Alabama       2.0       81.2       1.63          84.2          78.1   \n",
       "2  United States       NaN       74.4        NaN          75.1          73.6   \n",
       "3       Arkansas       6.0       78.9       1.08          82.2          75.6   \n",
       "4        Arizona      35.0       72.1      -0.54          75.5          68.7   \n",
       "\n",
       "   ai_rank  ai_value  ai_score  ai_lower_ci  ai_upper_ci  \n",
       "0     18.0      69.3      0.38         73.2         65.5  \n",
       "1     10.0      71.1      0.77         74.9         67.2  \n",
       "2      NaN      67.5       NaN         68.4         66.6  \n",
       "3     15.0      69.8      0.49         73.7         65.9  \n",
       "4     44.0      62.8     -1.00         66.8         58.8  "
      ]
     },
     "execution_count": 6,
     "metadata": {},
     "output_type": "execute_result"
    }
   ],
   "source": [
    "combined_df = pd.merge(adequate_health_insurance_2019, adequate_insurance_2019, on=\"state_name\", how='outer')\n",
    "combined_df.head()"
   ]
  },
  {
   "cell_type": "code",
   "execution_count": 7,
   "metadata": {},
   "outputs": [
    {
     "name": "stderr",
     "output_type": "stream",
     "text": [
      "/Users/abpuccini/opt/anaconda3/envs/PythonData/lib/python3.6/site-packages/pandas/core/frame.py:4133: SettingWithCopyWarning: \n",
      "A value is trying to be set on a copy of a slice from a DataFrame\n",
      "\n",
      "See the caveats in the documentation: https://pandas.pydata.org/pandas-docs/stable/user_guide/indexing.html#returning-a-view-versus-a-copy\n",
      "  errors=errors,\n",
      "/Users/abpuccini/opt/anaconda3/envs/PythonData/lib/python3.6/site-packages/pandas/core/frame.py:3997: SettingWithCopyWarning: \n",
      "A value is trying to be set on a copy of a slice from a DataFrame\n",
      "\n",
      "See the caveats in the documentation: https://pandas.pydata.org/pandas-docs/stable/user_guide/indexing.html#returning-a-view-versus-a-copy\n",
      "  errors=errors,\n"
     ]
    },
    {
     "data": {
      "text/html": [
       "<div>\n",
       "<style scoped>\n",
       "    .dataframe tbody tr th:only-of-type {\n",
       "        vertical-align: middle;\n",
       "    }\n",
       "\n",
       "    .dataframe tbody tr th {\n",
       "        vertical-align: top;\n",
       "    }\n",
       "\n",
       "    .dataframe thead th {\n",
       "        text-align: right;\n",
       "    }\n",
       "</style>\n",
       "<table border=\"1\" class=\"dataframe\">\n",
       "  <thead>\n",
       "    <tr style=\"text-align: right;\">\n",
       "      <th></th>\n",
       "      <th>state_name</th>\n",
       "      <th>apc_rank</th>\n",
       "      <th>apc_value</th>\n",
       "      <th>apc_score</th>\n",
       "      <th>apc_lower_ci</th>\n",
       "      <th>apc_upper_ci</th>\n",
       "    </tr>\n",
       "  </thead>\n",
       "  <tbody>\n",
       "    <tr>\n",
       "      <th>0</th>\n",
       "      <td>Alaska</td>\n",
       "      <td>48.0</td>\n",
       "      <td>67.3</td>\n",
       "      <td>-1.64</td>\n",
       "      <td>NaN</td>\n",
       "      <td>NaN</td>\n",
       "    </tr>\n",
       "    <tr>\n",
       "      <th>1</th>\n",
       "      <td>Alabama</td>\n",
       "      <td>37.0</td>\n",
       "      <td>73.9</td>\n",
       "      <td>-0.41</td>\n",
       "      <td>NaN</td>\n",
       "      <td>NaN</td>\n",
       "    </tr>\n",
       "    <tr>\n",
       "      <th>2</th>\n",
       "      <td>United States</td>\n",
       "      <td>NaN</td>\n",
       "      <td>76.1</td>\n",
       "      <td>NaN</td>\n",
       "      <td>NaN</td>\n",
       "      <td>NaN</td>\n",
       "    </tr>\n",
       "    <tr>\n",
       "      <th>3</th>\n",
       "      <td>Arkansas</td>\n",
       "      <td>42.0</td>\n",
       "      <td>71.9</td>\n",
       "      <td>-0.78</td>\n",
       "      <td>NaN</td>\n",
       "      <td>NaN</td>\n",
       "    </tr>\n",
       "    <tr>\n",
       "      <th>4</th>\n",
       "      <td>Arizona</td>\n",
       "      <td>43.0</td>\n",
       "      <td>71.7</td>\n",
       "      <td>-0.82</td>\n",
       "      <td>NaN</td>\n",
       "      <td>NaN</td>\n",
       "    </tr>\n",
       "  </tbody>\n",
       "</table>\n",
       "</div>"
      ],
      "text/plain": [
       "      state_name  apc_rank  apc_value  apc_score  apc_lower_ci  apc_upper_ci\n",
       "0         Alaska      48.0       67.3      -1.64           NaN           NaN\n",
       "1        Alabama      37.0       73.9      -0.41           NaN           NaN\n",
       "2  United States       NaN       76.1        NaN           NaN           NaN\n",
       "3       Arkansas      42.0       71.9      -0.78           NaN           NaN\n",
       "4        Arizona      43.0       71.7      -0.82           NaN           NaN"
      ]
     },
     "execution_count": 7,
     "metadata": {},
     "output_type": "execute_result"
    }
   ],
   "source": [
    "adequate_prenatal_care_2019 = data_2019[data_2019['Measure Name'].str.contains(\"Adequate Prenatal Care\")]\n",
    "adequate_prenatal_care_2019.reset_index(drop=True, inplace=True)\n",
    "adequate_prenatal_care_2019.rename(columns={\"State Name\": \"state_name\", \"Rank\": \"apc_rank\", \"Value\": \"apc_value\", \"Score\": \"apc_score\", \"Lower CI\" : \"apc_lower_ci\", \"Upper CI\" : \"apc_upper_ci\"}, inplace=True)\n",
    "adequate_prenatal_care_2019.drop(columns=['Edition', 'Measure Name', 'Report Type', 'Source', 'Source Year'], inplace=True)\n",
    "adequate_prenatal_care_2019.head()"
   ]
  },
  {
   "cell_type": "code",
   "execution_count": 8,
   "metadata": {},
   "outputs": [
    {
     "data": {
      "text/html": [
       "<div>\n",
       "<style scoped>\n",
       "    .dataframe tbody tr th:only-of-type {\n",
       "        vertical-align: middle;\n",
       "    }\n",
       "\n",
       "    .dataframe tbody tr th {\n",
       "        vertical-align: top;\n",
       "    }\n",
       "\n",
       "    .dataframe thead th {\n",
       "        text-align: right;\n",
       "    }\n",
       "</style>\n",
       "<table border=\"1\" class=\"dataframe\">\n",
       "  <thead>\n",
       "    <tr style=\"text-align: right;\">\n",
       "      <th></th>\n",
       "      <th>state_name</th>\n",
       "      <th>ahi_rank</th>\n",
       "      <th>ahi_value</th>\n",
       "      <th>ahi_score</th>\n",
       "      <th>ahi_lower_ci</th>\n",
       "      <th>ahi_upper_ci</th>\n",
       "      <th>ai_rank</th>\n",
       "      <th>ai_value</th>\n",
       "      <th>ai_score</th>\n",
       "      <th>ai_lower_ci</th>\n",
       "      <th>ai_upper_ci</th>\n",
       "      <th>apc_rank</th>\n",
       "      <th>apc_value</th>\n",
       "      <th>apc_score</th>\n",
       "      <th>apc_lower_ci</th>\n",
       "      <th>apc_upper_ci</th>\n",
       "    </tr>\n",
       "  </thead>\n",
       "  <tbody>\n",
       "    <tr>\n",
       "      <th>0</th>\n",
       "      <td>Alaska</td>\n",
       "      <td>8.0</td>\n",
       "      <td>78.5</td>\n",
       "      <td>1.00</td>\n",
       "      <td>81.5</td>\n",
       "      <td>75.5</td>\n",
       "      <td>18.0</td>\n",
       "      <td>69.3</td>\n",
       "      <td>0.38</td>\n",
       "      <td>73.2</td>\n",
       "      <td>65.5</td>\n",
       "      <td>48.0</td>\n",
       "      <td>67.3</td>\n",
       "      <td>-1.64</td>\n",
       "      <td>NaN</td>\n",
       "      <td>NaN</td>\n",
       "    </tr>\n",
       "    <tr>\n",
       "      <th>1</th>\n",
       "      <td>Alabama</td>\n",
       "      <td>2.0</td>\n",
       "      <td>81.2</td>\n",
       "      <td>1.63</td>\n",
       "      <td>84.2</td>\n",
       "      <td>78.1</td>\n",
       "      <td>10.0</td>\n",
       "      <td>71.1</td>\n",
       "      <td>0.77</td>\n",
       "      <td>74.9</td>\n",
       "      <td>67.2</td>\n",
       "      <td>37.0</td>\n",
       "      <td>73.9</td>\n",
       "      <td>-0.41</td>\n",
       "      <td>NaN</td>\n",
       "      <td>NaN</td>\n",
       "    </tr>\n",
       "    <tr>\n",
       "      <th>2</th>\n",
       "      <td>United States</td>\n",
       "      <td>NaN</td>\n",
       "      <td>74.4</td>\n",
       "      <td>NaN</td>\n",
       "      <td>75.1</td>\n",
       "      <td>73.6</td>\n",
       "      <td>NaN</td>\n",
       "      <td>67.5</td>\n",
       "      <td>NaN</td>\n",
       "      <td>68.4</td>\n",
       "      <td>66.6</td>\n",
       "      <td>NaN</td>\n",
       "      <td>76.1</td>\n",
       "      <td>NaN</td>\n",
       "      <td>NaN</td>\n",
       "      <td>NaN</td>\n",
       "    </tr>\n",
       "    <tr>\n",
       "      <th>3</th>\n",
       "      <td>Arkansas</td>\n",
       "      <td>6.0</td>\n",
       "      <td>78.9</td>\n",
       "      <td>1.08</td>\n",
       "      <td>82.2</td>\n",
       "      <td>75.6</td>\n",
       "      <td>15.0</td>\n",
       "      <td>69.8</td>\n",
       "      <td>0.49</td>\n",
       "      <td>73.7</td>\n",
       "      <td>65.9</td>\n",
       "      <td>42.0</td>\n",
       "      <td>71.9</td>\n",
       "      <td>-0.78</td>\n",
       "      <td>NaN</td>\n",
       "      <td>NaN</td>\n",
       "    </tr>\n",
       "    <tr>\n",
       "      <th>4</th>\n",
       "      <td>Arizona</td>\n",
       "      <td>35.0</td>\n",
       "      <td>72.1</td>\n",
       "      <td>-0.54</td>\n",
       "      <td>75.5</td>\n",
       "      <td>68.7</td>\n",
       "      <td>44.0</td>\n",
       "      <td>62.8</td>\n",
       "      <td>-1.00</td>\n",
       "      <td>66.8</td>\n",
       "      <td>58.8</td>\n",
       "      <td>43.0</td>\n",
       "      <td>71.7</td>\n",
       "      <td>-0.82</td>\n",
       "      <td>NaN</td>\n",
       "      <td>NaN</td>\n",
       "    </tr>\n",
       "  </tbody>\n",
       "</table>\n",
       "</div>"
      ],
      "text/plain": [
       "      state_name  ahi_rank  ahi_value  ahi_score  ahi_lower_ci  ahi_upper_ci  \\\n",
       "0         Alaska       8.0       78.5       1.00          81.5          75.5   \n",
       "1        Alabama       2.0       81.2       1.63          84.2          78.1   \n",
       "2  United States       NaN       74.4        NaN          75.1          73.6   \n",
       "3       Arkansas       6.0       78.9       1.08          82.2          75.6   \n",
       "4        Arizona      35.0       72.1      -0.54          75.5          68.7   \n",
       "\n",
       "   ai_rank  ai_value  ai_score  ai_lower_ci  ai_upper_ci  apc_rank  apc_value  \\\n",
       "0     18.0      69.3      0.38         73.2         65.5      48.0       67.3   \n",
       "1     10.0      71.1      0.77         74.9         67.2      37.0       73.9   \n",
       "2      NaN      67.5       NaN         68.4         66.6       NaN       76.1   \n",
       "3     15.0      69.8      0.49         73.7         65.9      42.0       71.9   \n",
       "4     44.0      62.8     -1.00         66.8         58.8      43.0       71.7   \n",
       "\n",
       "   apc_score  apc_lower_ci  apc_upper_ci  \n",
       "0      -1.64           NaN           NaN  \n",
       "1      -0.41           NaN           NaN  \n",
       "2        NaN           NaN           NaN  \n",
       "3      -0.78           NaN           NaN  \n",
       "4      -0.82           NaN           NaN  "
      ]
     },
     "execution_count": 8,
     "metadata": {},
     "output_type": "execute_result"
    }
   ],
   "source": [
    "combined_df2 = pd.merge(combined_df, adequate_prenatal_care_2019, on=\"state_name\", how='outer')\n",
    "combined_df2.head()"
   ]
  },
  {
   "cell_type": "code",
   "execution_count": 9,
   "metadata": {},
   "outputs": [
    {
     "name": "stderr",
     "output_type": "stream",
     "text": [
      "/Users/abpuccini/opt/anaconda3/envs/PythonData/lib/python3.6/site-packages/pandas/core/frame.py:4133: SettingWithCopyWarning: \n",
      "A value is trying to be set on a copy of a slice from a DataFrame\n",
      "\n",
      "See the caveats in the documentation: https://pandas.pydata.org/pandas-docs/stable/user_guide/indexing.html#returning-a-view-versus-a-copy\n",
      "  errors=errors,\n",
      "/Users/abpuccini/opt/anaconda3/envs/PythonData/lib/python3.6/site-packages/pandas/core/frame.py:3997: SettingWithCopyWarning: \n",
      "A value is trying to be set on a copy of a slice from a DataFrame\n",
      "\n",
      "See the caveats in the documentation: https://pandas.pydata.org/pandas-docs/stable/user_guide/indexing.html#returning-a-view-versus-a-copy\n",
      "  errors=errors,\n"
     ]
    }
   ],
   "source": [
    "avoided_care_2019_breakdown = data_2019[data_2019['Measure Name'].str.contains(\"Avoided Care due to Cost\")]\n",
    "avoided_care_2019_breakdown.reset_index(drop=True, inplace=True)\n",
    "avoided_care_2019_breakdown.rename(columns={\"State Name\": \"state_name\", \"Measure Name\": \"measure_name\", \"Rank\": \"ac_rank\", \"Value\": \"ac_value\", \"Score\": \"ac_score\", \"Lower CI\" : \"ac_lower_ci\", \"Upper CI\" : \"ac_upper_ci\"}, inplace=True)\n",
    "avoided_care_2019_breakdown.drop(columns=['Edition', 'Report Type', 'Source', 'Source Year'], inplace=True)\n",
    "avoided_care_2019_breakdown.to_csv('../output_file/avoided_care_2019_breakdown.csv', index=False)"
   ]
  },
  {
   "cell_type": "code",
   "execution_count": 14,
   "metadata": {
    "scrolled": true
   },
   "outputs": [
    {
     "ename": "AttributeError",
     "evalue": "'StringMethods' object has no attribute 'fullmatch'",
     "output_type": "error",
     "traceback": [
      "\u001b[0;31m---------------------------------------------------------------------------\u001b[0m",
      "\u001b[0;31mAttributeError\u001b[0m                            Traceback (most recent call last)",
      "\u001b[0;32m<ipython-input-14-d4fe91178667>\u001b[0m in \u001b[0;36m<module>\u001b[0;34m\u001b[0m\n\u001b[0;32m----> 1\u001b[0;31m \u001b[0mavoided_care_2019\u001b[0m \u001b[0;34m=\u001b[0m \u001b[0mdata_2019\u001b[0m\u001b[0;34m[\u001b[0m\u001b[0mdata_2019\u001b[0m\u001b[0;34m[\u001b[0m\u001b[0;34m'Measure Name'\u001b[0m\u001b[0;34m]\u001b[0m\u001b[0;34m.\u001b[0m\u001b[0mstr\u001b[0m\u001b[0;34m.\u001b[0m\u001b[0mfullmatch\u001b[0m\u001b[0;34m(\u001b[0m\u001b[0;34m\"Avoided Care due to Cost - Women\"\u001b[0m\u001b[0;34m)\u001b[0m\u001b[0;34m]\u001b[0m\u001b[0;34m\u001b[0m\u001b[0;34m\u001b[0m\u001b[0m\n\u001b[0m\u001b[1;32m      2\u001b[0m \u001b[0mavoided_care_2019\u001b[0m\u001b[0;34m.\u001b[0m\u001b[0mreset_index\u001b[0m\u001b[0;34m(\u001b[0m\u001b[0mdrop\u001b[0m\u001b[0;34m=\u001b[0m\u001b[0;32mTrue\u001b[0m\u001b[0;34m,\u001b[0m \u001b[0minplace\u001b[0m\u001b[0;34m=\u001b[0m\u001b[0;32mTrue\u001b[0m\u001b[0;34m)\u001b[0m\u001b[0;34m\u001b[0m\u001b[0;34m\u001b[0m\u001b[0m\n\u001b[1;32m      3\u001b[0m \u001b[0mavoided_care_2019\u001b[0m\u001b[0;34m.\u001b[0m\u001b[0mrename\u001b[0m\u001b[0;34m(\u001b[0m\u001b[0mcolumns\u001b[0m\u001b[0;34m=\u001b[0m\u001b[0;34m{\u001b[0m\u001b[0;34m\"State Name\"\u001b[0m\u001b[0;34m:\u001b[0m \u001b[0;34m\"state_name\"\u001b[0m\u001b[0;34m,\u001b[0m \u001b[0;34m\"Rank\"\u001b[0m\u001b[0;34m:\u001b[0m \u001b[0;34m\"ac_rank\"\u001b[0m\u001b[0;34m,\u001b[0m \u001b[0;34m\"Value\"\u001b[0m\u001b[0;34m:\u001b[0m \u001b[0;34m\"ac_value\"\u001b[0m\u001b[0;34m,\u001b[0m \u001b[0;34m\"Score\"\u001b[0m\u001b[0;34m:\u001b[0m \u001b[0;34m\"ac_score\"\u001b[0m\u001b[0;34m,\u001b[0m \u001b[0;34m\"Lower CI\"\u001b[0m \u001b[0;34m:\u001b[0m \u001b[0;34m\"ac_lower_ci\"\u001b[0m\u001b[0;34m,\u001b[0m \u001b[0;34m\"Upper CI\"\u001b[0m \u001b[0;34m:\u001b[0m \u001b[0;34m\"ac_upper_ci\"\u001b[0m\u001b[0;34m}\u001b[0m\u001b[0;34m,\u001b[0m \u001b[0minplace\u001b[0m\u001b[0;34m=\u001b[0m\u001b[0;32mTrue\u001b[0m\u001b[0;34m)\u001b[0m\u001b[0;34m\u001b[0m\u001b[0;34m\u001b[0m\u001b[0m\n\u001b[1;32m      4\u001b[0m \u001b[0mavoided_care_2019\u001b[0m\u001b[0;34m.\u001b[0m\u001b[0mdrop\u001b[0m\u001b[0;34m(\u001b[0m\u001b[0mcolumns\u001b[0m\u001b[0;34m=\u001b[0m\u001b[0;34m[\u001b[0m\u001b[0;34m'Edition'\u001b[0m\u001b[0;34m,\u001b[0m \u001b[0;34m'Measure Name'\u001b[0m\u001b[0;34m,\u001b[0m \u001b[0;34m'Report Type'\u001b[0m\u001b[0;34m,\u001b[0m \u001b[0;34m'Source'\u001b[0m\u001b[0;34m,\u001b[0m \u001b[0;34m'Source Year'\u001b[0m\u001b[0;34m]\u001b[0m\u001b[0;34m,\u001b[0m \u001b[0minplace\u001b[0m\u001b[0;34m=\u001b[0m\u001b[0;32mTrue\u001b[0m\u001b[0;34m)\u001b[0m\u001b[0;34m\u001b[0m\u001b[0;34m\u001b[0m\u001b[0m\n\u001b[1;32m      5\u001b[0m \u001b[0mavoided_care_2019\u001b[0m\u001b[0;34m.\u001b[0m\u001b[0mhead\u001b[0m\u001b[0;34m(\u001b[0m\u001b[0;34m)\u001b[0m\u001b[0;34m\u001b[0m\u001b[0;34m\u001b[0m\u001b[0m\n",
      "\u001b[0;31mAttributeError\u001b[0m: 'StringMethods' object has no attribute 'fullmatch'"
     ]
    }
   ],
   "source": [
    "avoided_care_2019 = data_2019[data_2019['Measure Name'].str.fullmatch(\"Avoided Care due to Cost - Women\")]\n",
    "avoided_care_2019.reset_index(drop=True, inplace=True)\n",
    "avoided_care_2019.rename(columns={\"State Name\": \"state_name\", \"Rank\": \"ac_rank\", \"Value\": \"ac_value\", \"Score\": \"ac_score\", \"Lower CI\" : \"ac_lower_ci\", \"Upper CI\" : \"ac_upper_ci\"}, inplace=True)\n",
    "avoided_care_2019.drop(columns=['Edition', 'Measure Name', 'Report Type', 'Source', 'Source Year'], inplace=True)\n",
    "avoided_care_2019.head()"
   ]
  },
  {
   "cell_type": "code",
   "execution_count": null,
   "metadata": {
    "scrolled": true
   },
   "outputs": [],
   "source": [
    "combined_df3 = pd.merge(combined_df2, avoided_care_2019, on=\"state_name\", how='outer')\n",
    "combined_df3"
   ]
  },
  {
   "cell_type": "code",
   "execution_count": null,
   "metadata": {},
   "outputs": [],
   "source": [
    "dedicated_provider_2019_breakdown = data_2019[data_2019['Measure Name'].str.contains(\"Dedicated H\")]\n",
    "dedicated_provider_2019_breakdown.reset_index(drop=True, inplace=True)\n",
    "dedicated_provider_2019_breakdown.rename(columns={\"State Name\": \"state_name\", \"Measure Name\": \"measure_name\", \"Rank\": \"dhcp_rank\", \"Value\": \"dhcp_value\", \"Score\": \"dhcp_score\", \"Lower CI\" : \"dhcp_lower_ci\", \"Upper CI\" : \"dhcp_upper_ci\"}, inplace=True)\n",
    "dedicated_provider_2019_breakdown.drop(columns=['Edition', 'Report Type', 'Source', 'Source Year'], inplace=True)\n",
    "dedicated_provider_2019_breakdown.to_csv('../output_file/dedicated_provider_2019_breakdown.csv', index=False)"
   ]
  },
  {
   "cell_type": "code",
   "execution_count": null,
   "metadata": {},
   "outputs": [],
   "source": [
    "dedicated_provider_2019 = data_2019[data_2019['Measure Name'].str.contains(\"Dedicated Health Care\")]\n",
    "dedicated_provider_2019.reset_index(drop=True, inplace=True)\n",
    "dedicated_provider_2019.rename(columns={\"State Name\": \"state_name\", \"Rank\": \"dhcp_rank\", \"Value\": \"dhcp_value\", \"Score\": \"dhcp_score\", \"Lower CI\" : \"dhcp_lower_ci\", \"Upper CI\" : \"dhcp_upper_ci\"}, inplace=True)\n",
    "dedicated_provider_2019.drop(columns=['Edition', 'Measure Name', 'Report Type', 'Source', 'Source Year'], inplace=True)\n",
    "dedicated_provider_2019"
   ]
  },
  {
   "cell_type": "code",
   "execution_count": null,
   "metadata": {},
   "outputs": [],
   "source": [
    "combined_df4 = pd.merge(combined_df3, dedicated_provider_2019, on=\"state_name\", how='outer')\n",
    "combined_df4"
   ]
  },
  {
   "cell_type": "code",
   "execution_count": null,
   "metadata": {},
   "outputs": [],
   "source": [
    "developmental_screening_2019 = data_2019[data_2019['Measure Name'].str.contains(\"Developmental Screening\")]\n",
    "developmental_screening_2019.reset_index(drop=True, inplace=True)\n",
    "developmental_screening_2019.rename(columns={\"State Name\": \"state_name\", \"Rank\": \"ds_rank\", \"Value\": \"ds_value\", \"Score\": \"ds_score\", \"Lower CI\" : \"ds_lower_ci\", \"Upper CI\" : \"ds_upper_ci\"}, inplace=True)\n",
    "developmental_screening_2019.drop(columns=['Edition', 'Measure Name', 'Report Type', 'Source', 'Source Year'], inplace=True)\n",
    "developmental_screening_2019"
   ]
  },
  {
   "cell_type": "code",
   "execution_count": null,
   "metadata": {},
   "outputs": [],
   "source": [
    "combined_df5 = pd.merge(combined_df4, developmental_screening_2019, on=\"state_name\", how='outer')\n",
    "combined_df5"
   ]
  },
  {
   "cell_type": "code",
   "execution_count": null,
   "metadata": {},
   "outputs": [],
   "source": [
    "infant_mortality_2019_breakdown = data_2019[data_2019['Measure Name'].str.contains(\"Infant Mortality\")]\n",
    "infant_mortality_2019_breakdown.reset_index(drop=True, inplace=True)\n",
    "infant_mortality_2019_breakdown.rename(columns={\"State Name\": \"state_name\", \"Measure Name\": \"measure_name\", \"Rank\": \"im_rank\", \"Value\": \"im_value\", \"Score\": \"im_score\", \"Lower CI\" : \"im_lower_ci\", \"Upper CI\" : \"im_upper_ci\"}, inplace=True)\n",
    "infant_mortality_2019_breakdown.drop(columns=['Edition', 'Report Type', 'Source', 'Source Year'], inplace=True)\n",
    "infant_mortality_2019_breakdown.to_csv('../output_file/infant_mortality_2019_breakdown.csv', index=False)"
   ]
  },
  {
   "cell_type": "code",
   "execution_count": null,
   "metadata": {},
   "outputs": [],
   "source": [
    "infant_mortality_2019 = data_2019[data_2019['Measure Name'].str.fullmatch(\"Infant Mortality\")]\n",
    "infant_mortality_2019.reset_index(drop=True, inplace=True)\n",
    "infant_mortality_2019.rename(columns={\"State Name\": \"state_name\", \"Rank\": \"im_rank\", \"Value\": \"im_value\", \"Score\": \"im_score\", \"Lower CI\" : \"im_lower_ci\", \"Upper CI\" : \"im_upper_ci\"}, inplace=True)\n",
    "infant_mortality_2019.drop(columns=['Edition', 'Measure Name', 'Report Type', 'Source', 'Source Year'], inplace=True)\n",
    "infant_mortality_2019"
   ]
  },
  {
   "cell_type": "code",
   "execution_count": null,
   "metadata": {},
   "outputs": [],
   "source": [
    "combined_df6 = pd.merge(combined_df5, infant_mortality_2019, on=\"state_name\", how='outer')\n",
    "combined_df6"
   ]
  },
  {
   "cell_type": "code",
   "execution_count": null,
   "metadata": {},
   "outputs": [],
   "source": [
    "health_outcomes_2019 = data_2019[data_2019['Measure Name'].str.contains(\"Outcomes-Women\")]\n",
    "health_outcomes_2019.reset_index(drop=True, inplace=True)\n",
    "health_outcomes_2019.rename(columns={\"State Name\": \"state_name\", \"Rank\": \"how_rank\", \"Value\": \"how_value\", \"Score\": \"how_score\", \"Lower CI\" : \"how_lower_ci\", \"Upper CI\" : \"how_upper_ci\"}, inplace=True)\n",
    "health_outcomes_2019.drop(columns=['Edition', 'Measure Name', 'Report Type', 'Source', 'Source Year'], inplace=True)\n",
    "health_outcomes_2019"
   ]
  },
  {
   "cell_type": "code",
   "execution_count": null,
   "metadata": {},
   "outputs": [],
   "source": [
    "combined_df7 = pd.merge(combined_df6, health_outcomes_2019, on='state_name', how='outer')\n",
    "combined_df7"
   ]
  },
  {
   "cell_type": "code",
   "execution_count": null,
   "metadata": {},
   "outputs": [],
   "source": [
    "maternal_mortality_2019_breakdown = data_2019[data_2019['Measure Name'].str.contains(\"Maternal Mortality\")]\n",
    "maternal_mortality_2019_breakdown.reset_index(drop=True, inplace=True)\n",
    "maternal_mortality_2019_breakdown.rename(columns={\"State Name\": \"state_name\", \"Measure Name\": \"measure_name\", \"Rank\": \"mm_rank\", \"Value\": \"mm_value\", \"Score\": \"mm_score\", \"Lower CI\" : \"mm_lower_ci\", \"Upper CI\" : \"mm_upper_ci\"}, inplace=True)\n",
    "maternal_mortality_2019_breakdown.drop(columns=['Edition', 'Report Type', 'Source', 'Source Year'], inplace=True)\n",
    "maternal_mortality_2019_breakdown.to_csv('../output_file/maternal_mortality_2019_breakdown.csv', index=False)"
   ]
  },
  {
   "cell_type": "code",
   "execution_count": null,
   "metadata": {},
   "outputs": [],
   "source": [
    "maternal_mortality_2019 = data_2019[data_2019['Measure Name'].str.fullmatch(\"Maternal Mortality\")]\n",
    "maternal_mortality_2019.reset_index(drop=True, inplace=True)\n",
    "maternal_mortality_2019.rename(columns={\"State Name\": \"state_name\", \"Rank\": \"mm_rank\", \"Value\": \"mm_value\", \"Score\": \"mm_score\", \"Lower CI\" : \"mm_lower_ci\", \"Upper CI\" : \"mm_upper_ci\"}, inplace=True)\n",
    "maternal_mortality_2019.drop(columns=['Edition', 'Measure Name', 'Report Type', 'Source', 'Source Year'], inplace=True)\n",
    "maternal_mortality_2019"
   ]
  },
  {
   "cell_type": "code",
   "execution_count": null,
   "metadata": {},
   "outputs": [],
   "source": [
    "combined_df8 = pd.merge(combined_df7, maternal_mortality_2019, on='state_name', how='outer')\n",
    "combined_df8"
   ]
  },
  {
   "cell_type": "code",
   "execution_count": null,
   "metadata": {},
   "outputs": [],
   "source": [
    "mpinc_survey_2019 = data_2019[data_2019['Measure Name'].str.contains(\"mPINC\")]\n",
    "mpinc_survey_2019.reset_index(drop=True, inplace=True)\n",
    "mpinc_survey_2019.rename(columns={\"State Name\": \"state_name\", \"Rank\": \"mpinc_rank\", \"Value\": \"mpinc_value\", \"Score\": \"mpinc_score\", \"Lower CI\" : \"mpinc_lower_ci\", \"Upper CI\" : \"mpinc_upper_ci\"}, inplace=True)\n",
    "mpinc_survey_2019.drop(columns=['Edition', 'Measure Name', 'Report Type', 'Source', 'Source Year'], inplace=True)\n",
    "\n",
    "mpinc_survey_2019\n",
    "\n"
   ]
  },
  {
   "cell_type": "code",
   "execution_count": null,
   "metadata": {},
   "outputs": [],
   "source": [
    "combined_df9 = pd.merge(combined_df5, mpinc_survey_2019, on='state_name', how='outer')\n",
    "combined_df9"
   ]
  },
  {
   "cell_type": "code",
   "execution_count": null,
   "metadata": {
    "scrolled": true
   },
   "outputs": [],
   "source": [
    "women_mortality_2019_breakdown = data_2019[data_2019['Measure Name'].str.contains(\"Mortality - Women\")]\n",
    "women_mortality_2019_breakdown.reset_index(drop=True, inplace=True)\n",
    "women_mortality_2019_breakdown.rename(columns={\"State Name\": \"state_name\", \"Measure Name\": \"measure_name\", \"Rank\": \"mow_rank\", \"Value\": \"mow_value\", \"Score\": \"mow_score\", \"Lower CI\" : \"mow_lower_ci\", \"Upper CI\" : \"mow_upper_ci\"}, inplace=True)\n",
    "women_mortality_2019_breakdown.drop(columns=['Edition', 'Report Type', 'Source', 'Source Year'], inplace=True)\n",
    "women_mortality_2019_breakdown.to_csv('../output_file/women_mortality_2019_breakdown.csv', index=False)"
   ]
  },
  {
   "cell_type": "code",
   "execution_count": null,
   "metadata": {},
   "outputs": [],
   "source": [
    "women_mortality_2019 = data_2019[data_2019['Measure Name'].str.contains(\"Mortality Rate - Women\")]\n",
    "women_mortality_2019.reset_index(drop=True, inplace=True)\n",
    "women_mortality_2019.rename(columns={\"State Name\": \"state_name\", \"Rank\": \"mow_rank\", \"Value\": \"mow_value\", \"Score\": \"mow_score\", \"Lower CI\" : \"mow_lower_ci\", \"Upper CI\" : \"mow_upper_ci\"}, inplace=True)\n",
    "women_mortality_2019.drop(columns=['Edition', 'Measure Name', 'Report Type', 'Source', 'Source Year'], inplace=True)\n",
    "women_mortality_2019"
   ]
  },
  {
   "cell_type": "code",
   "execution_count": null,
   "metadata": {},
   "outputs": [],
   "source": [
    "combined_df10 = pd.merge(combined_df9, women_mortality_2019, on='state_name', how='outer')\n",
    "combined_df10"
   ]
  },
  {
   "cell_type": "code",
   "execution_count": null,
   "metadata": {},
   "outputs": [],
   "source": [
    "women_policy_2019 = data_2019[data_2019['Measure Name'].str.contains(\"Policy-Women\")]\n",
    "women_policy_2019.reset_index(drop=True, inplace=True)\n",
    "women_policy_2019.rename(columns={\"State Name\": \"state_name\", \"Rank\": \"pw_rank\", \"Value\": \"pw_value\", \"Score\": \"pw_score\", \"Lower CI\" : \"pw_lower_ci\", \"Upper CI\" : \"pw_upper_ci\"}, inplace=True)\n",
    "women_policy_2019.drop(columns=['Edition', 'Measure Name', 'Report Type', 'Source', 'Source Year'], inplace=True)\n",
    "women_policy_2019"
   ]
  },
  {
   "cell_type": "code",
   "execution_count": null,
   "metadata": {},
   "outputs": [],
   "source": [
    "combined_df11 = pd.merge(combined_df10, women_policy_2019, on='state_name', how='outer')\n",
    "combined_df11"
   ]
  },
  {
   "cell_type": "code",
   "execution_count": null,
   "metadata": {},
   "outputs": [],
   "source": [
    "women_overall_health_2019 = data_2019[data_2019['Measure Name'].str.contains(\"Overall-Women\")]\n",
    "women_overall_health_2019.reset_index(drop=True, inplace=True)\n",
    "women_overall_health_2019.rename(columns={\"State Name\": \"state_name\", \"Rank\": \"ow_rank\", \"Value\": \"ow_value\", \"Score\": \"ow_score\", \"Lower CI\" : \"ow_lower_ci\", \"Upper CI\" : \"ow_upper_ci\"}, inplace=True)\n",
    "women_overall_health_2019.drop(columns=['Edition', 'Measure Name', 'Report Type', 'Source', 'Source Year'], inplace=True)\n",
    "women_overall_health_2019"
   ]
  },
  {
   "cell_type": "code",
   "execution_count": null,
   "metadata": {},
   "outputs": [],
   "source": [
    "combined_df12 = pd.merge(combined_df11, women_overall_health_2019, on='state_name', how='outer')\n",
    "combined_df12"
   ]
  },
  {
   "cell_type": "code",
   "execution_count": null,
   "metadata": {},
   "outputs": [],
   "source": [
    "postpartum_visit_2019 = data_2019[data_2019['Measure Name'].str.contains(\"Postpartum Visit\")]\n",
    "postpartum_visit_2019.reset_index(drop=True, inplace=True)\n",
    "postpartum_visit_2019.rename(columns={\"State Name\": \"state_name\", \"Rank\": \"ppv_rank\", \"Value\": \"ppv_value\", \"Score\": \"ppv_score\", \"Lower CI\" : \"ppv_lower_ci\", \"Upper CI\" : \"ppv_upper_ci\"}, inplace=True)\n",
    "postpartum_visit_2019.drop(columns=['Edition', 'Measure Name', 'Report Type', 'Source', 'Source Year'], inplace=True)\n",
    "postpartum_visit_2019"
   ]
  },
  {
   "cell_type": "code",
   "execution_count": null,
   "metadata": {},
   "outputs": [],
   "source": [
    "combined_df13 = pd.merge(combined_df12, postpartum_visit_2019, on='state_name', how='outer')\n",
    "combined_df13"
   ]
  },
  {
   "cell_type": "code",
   "execution_count": null,
   "metadata": {},
   "outputs": [],
   "source": [
    "prenatal_care_bf_tt_2019_breakdown = data_2019[data_2019['Measure Name'].str.contains(\"Prenatal Care Before Third Trimester\")]\n",
    "prenatal_care_bf_tt_2019_breakdown.reset_index(drop=True, inplace=True)\n",
    "prenatal_care_bf_tt_2019_breakdown.rename(columns={\"State Name\": \"state_name\", \"Measure Name\": \"measure_name\", \"Rank\": \"pctt_rank\", \"Value\": \"pctt_value\", \"Score\": \"pctt_score\", \"Lower CI\" : \"pctt_lower_ci\", \"Upper CI\" : \"pctt_upper_ci\"}, inplace=True)\n",
    "prenatal_care_bf_tt_2019_breakdown.drop(columns=['Edition', 'Report Type', 'Source', 'Source Year'], inplace=True)\n",
    "prenatal_care_bf_tt_2019_breakdown.to_csv('../output_file/prenatal_care_bf_tt_2019_breakdown.csv', index=False)"
   ]
  },
  {
   "cell_type": "code",
   "execution_count": null,
   "metadata": {},
   "outputs": [],
   "source": [
    "prenatal_care_bf_tt_2019 = data_2019[data_2019['Measure Name'].str.fullmatch(\"Prenatal Care Before Third Trimester\")]\n",
    "prenatal_care_bf_tt_2019.reset_index(drop=True, inplace=True)\n",
    "prenatal_care_bf_tt_2019.rename(columns={\"State Name\": \"state_name\", \"Rank\": \"pctt_rank\", \"Value\": \"pctt_value\", \"Score\": \"pctt_score\", \"Lower CI\" : \"pctt_lower_ci\", \"Upper CI\" : \"pctt_upper_ci\"}, inplace=True)\n",
    "prenatal_care_bf_tt_2019.drop(columns=['Edition', 'Measure Name', 'Report Type', 'Source', 'Source Year'], inplace=True)\n",
    "prenatal_care_bf_tt_2019"
   ]
  },
  {
   "cell_type": "code",
   "execution_count": null,
   "metadata": {},
   "outputs": [],
   "source": [
    "combined_df14 = pd.merge(combined_df13, prenatal_care_bf_tt_2019, on='state_name', how='outer')\n",
    "combined_df14"
   ]
  },
  {
   "cell_type": "code",
   "execution_count": null,
   "metadata": {},
   "outputs": [],
   "source": [
    "publicly_funded_WHS_2019 = data_2019[data_2019['Measure Name'].str.contains(\"Publicly-Funded Women's Health Services\")]\n",
    "publicly_funded_WHS_2019.reset_index(drop=True, inplace=True)\n",
    "publicly_funded_WHS_2019.rename(columns={\"State Name\": \"state_name\", \"Rank\": \"pfhs_rank\", \"Value\": \"pfhs_value\", \"Score\": \"pfhs_score\", \"Lower CI\" : \"pfhs_lower_ci\", \"Upper CI\" : \"pfhs_upper_ci\"}, inplace=True)\n",
    "publicly_funded_WHS_2019.drop(columns=['Edition', 'Measure Name', 'Report Type', 'Source', 'Source Year'], inplace=True)\n",
    "publicly_funded_WHS_2019"
   ]
  },
  {
   "cell_type": "code",
   "execution_count": null,
   "metadata": {},
   "outputs": [],
   "source": [
    "combined_df15 = pd.merge(combined_df14, publicly_funded_WHS_2019, on='state_name', how='outer')\n",
    "combined_df15"
   ]
  },
  {
   "cell_type": "code",
   "execution_count": null,
   "metadata": {},
   "outputs": [],
   "source": [
    "public_assistance_2019 = data_2019[data_2019['Measure Name'].str.contains(\"Receiving public assistance\")]\n",
    "public_assistance_2019.reset_index(drop=True, inplace=True)\n",
    "public_assistance_2019.rename(columns={\"State Name\": \"state_name\", \"Rank\": \"rpa_rank\", \"Value\": \"rpa_value\", \"Score\": \"rpa_score\", \"Lower CI\" : \"rpa_lower_ci\", \"Upper CI\" : \"rpa_upper_ci\"}, inplace=True)\n",
    "public_assistance_2019.drop(columns=['Edition', 'Measure Name', 'Report Type', 'Source', 'Source Year'], inplace=True)\n",
    "public_assistance_2019"
   ]
  },
  {
   "cell_type": "code",
   "execution_count": null,
   "metadata": {},
   "outputs": [],
   "source": [
    "combined_df16 = pd.merge(combined_df15, public_assistance_2019, on='state_name', how='outer')\n",
    "combined_df16"
   ]
  },
  {
   "cell_type": "code",
   "execution_count": null,
   "metadata": {},
   "outputs": [],
   "source": [
    "uninsured_women_2019 = data_2019[data_2019['Measure Name'].str.contains(\"Uninsured Women\")]\n",
    "uninsured_women_2019.reset_index(drop=True, inplace=True)\n",
    "uninsured_women_2019.rename(columns={\"State Name\": \"state_name\", \"Rank\": \"uw_rank\", \"Value\": \"uw_value\", \"Score\": \"uw_score\", \"Lower CI\" : \"uw_lower_ci\", \"Upper CI\" : \"uw_upper_ci\"}, inplace=True)\n",
    "uninsured_women_2019.drop(columns=['Edition', 'Measure Name', 'Report Type', 'Source', 'Source Year'], inplace=True)\n",
    "uninsured_women_2019"
   ]
  },
  {
   "cell_type": "code",
   "execution_count": null,
   "metadata": {},
   "outputs": [],
   "source": [
    "combined_df17 = pd.merge(combined_df16, uninsured_women_2019, on='state_name', how='outer')\n",
    "combined_df17"
   ]
  },
  {
   "cell_type": "code",
   "execution_count": null,
   "metadata": {
    "scrolled": true
   },
   "outputs": [],
   "source": [
    "ww_visit_2019_breakdown = data_2019[data_2019['Measure Name'].str.contains(\"Well-Woman Visit\")]\n",
    "ww_visit_2019_breakdown.reset_index(drop=True, inplace=True)\n",
    "ww_visit_2019_breakdown.rename(columns={\"State Name\": \"state_name\", \"Measure Name\": \"measure_name\", \"Rank\": \"wwv_rank\", \"Value\": \"wwv_value\", \"Score\": \"wwv_score\", \"Lower CI\" : \"wwv_lower_ci\", \"Upper CI\" : \"wwv_upper_ci\"}, inplace=True)\n",
    "ww_visit_2019_breakdown.drop(columns=['Edition', 'Report Type', 'Source', 'Source Year'], inplace=True)\n",
    "\n",
    "ww_visit_2019_breakdown.to_csv('../output_file/ww_visit_2019_breakdown.csv', index=False)"
   ]
  },
  {
   "cell_type": "code",
   "execution_count": null,
   "metadata": {},
   "outputs": [],
   "source": [
    "ww_visit_2019 = data_2019[data_2019['Measure Name'].str.fullmatch(\"Well-Woman Visit\")]\n",
    "ww_visit_2019.reset_index(drop=True, inplace=True)\n",
    "ww_visit_2019.rename(columns={\"State Name\": \"state_name\", \"Rank\": \"wwv_rank\", \"Value\": \"wwv_value\", \"Score\": \"wwv_score\", \"Lower CI\" : \"wwv_lower_ci\", \"Upper CI\" : \"wwv_upper_ci\"}, inplace=True)\n",
    "ww_visit_2019.drop(columns=['Edition', 'Measure Name', 'Report Type', 'Source', 'Source Year'], inplace=True)\n",
    "\n",
    "ww_visit_2019"
   ]
  },
  {
   "cell_type": "code",
   "execution_count": null,
   "metadata": {},
   "outputs": [],
   "source": [
    "combined_df18 = pd.merge(combined_df17, ww_visit_2019, on='state_name', how='outer')\n",
    "combined_df18"
   ]
  },
  {
   "cell_type": "code",
   "execution_count": null,
   "metadata": {},
   "outputs": [],
   "source": [
    "wic_coverage_2019 = data_2019[data_2019['Measure Name'].str.contains(\"WIC Coverage\")]\n",
    "wic_coverage_2019.reset_index(drop=True, inplace=True)\n",
    "wic_coverage_2019.rename(columns={\"State Name\": \"state_name\", \"Rank\": \"wic_rank\", \"Value\": \"wic_value\", \"Score\": \"wic_score\", \"Lower CI\" : \"wic_lower_ci\", \"Upper CI\" : \"wic_upper_ci\"}, inplace=True)\n",
    "wic_coverage_2019.drop(columns=['Edition', 'Measure Name', 'Report Type', 'Source', 'Source Year'], inplace=True)\n",
    "\n",
    "wic_coverage_2019"
   ]
  },
  {
   "cell_type": "code",
   "execution_count": null,
   "metadata": {},
   "outputs": [],
   "source": [
    "final_combined_df = pd.merge(combined_df18, wic_coverage_2019, on='state_name', how='outer')\n",
    "final_combined_df.to_csv('../output_file/final_combined_df.csv', index=False)"
   ]
  },
  {
   "cell_type": "code",
   "execution_count": null,
   "metadata": {},
   "outputs": [],
   "source": [
    "key_df = pd.DataFrame({\n",
    "    \"measure_name\": [\"Adequate Health Insurance\", \"Adequate Insurance\", \"Adequate Prenatal Care\", \"Avoided Care due to Cost\", \"Dedicated Health Care Provider - Women\", \"Developmental Screening\", \"Health Outcomes - Women\", \"Infant Mortality\", \"Maternal Mortality\", \"Maternity Practices in Infant Nutrition and Care\", \"Mortality - Women\", \"Policy - Women\", \"Overall - Women\", \"Postpartum Visit\", \"Prenatal Care Before Third Trimester\", \"Publicly-Funded Women's Health Services\", \"Receiving Public Assistance\", \"Uninsured Women\", \"Well-Woman Visit\", \"WIC Coverage\"], \n",
    "    \"abbreviation\" : [\"ahi\", \"ai\", \"apc\", \"ac\", \"dhcp\", \"ds\", \"how\", \"im\", \"mm\", \"mpinc\", \"mow\", \"pw\", \"ow\", \"ppv\", \"pctt\", \"pfhs\", \"rpa\", \"uw\", \"wwv\", \"wic\"], \n",
    "    \"demographic_breakdown\" : [False, False, False, True, True, False, False, True, True, False, True, False, False, False, True, False, False, False, True, False],\n",
    "    \"source\": [\"U.S. HHS, HRSA, Maternal and Child Health Bureau (MCHB), Child and Adolescent Health Measurement Initiative (CAHMI), National Survey of Children's Health Indicator Data Set, Data Resource Center for Child and Adolescent Health\", \"AHR Data\", \"AHR Data\", \"CDC, Behavioral Risk Factor Surveillance System\", \"CDC, Behavioral Risk Factor Surveillance System\", \"AHR Data\", \"America's Health Rankings Composite Measure\", \"CDC WONDER Online Database, Linked Birth/Infant Death files\", \"CDC WONDER Online Database, Underlying Cause of Death, Multiple Cause of Death files\", \"CDC, Breastfeeding Report Card\", \"AHR Data\", \"America's Health Rankings Composite Measure\", \"America's Health Rankings Composite Measure\", \"CDC, Pregnancy Risk Assessment Monitoring System or state equivalent\", \"CDC WONDER Online Database, Natality public-use data\", \"Guttmacher Institute, Contraceptive Needs and Services Report\", \"AHR Data\", \"U.S. Census Bureau, American Community Survey\", \"CDC, Behavioral Risk Factor Surveillance System\", \"AHR Data\"], \n",
    "    \"source_year\":[\"2016-2017\", \"0\", \"0\", \"2016-2017\", \"2016-2017\", \"0\", \"2019\", \"2015-2016\", \"2013-2017\", \"2016\", \"0\", \"2019\", \"2019\", \"2017\", \"2017\", \"2014\", \"0\", \"2017\", \"2016-2017\", \"0\"]\n",
    "})\n",
    "key_df.to_csv('../output_file/key_df.csv', index=False)"
   ]
  },
  {
   "cell_type": "code",
   "execution_count": null,
   "metadata": {},
   "outputs": [],
   "source": []
  },
  {
   "cell_type": "code",
   "execution_count": null,
   "metadata": {},
   "outputs": [],
   "source": []
  }
 ],
 "metadata": {
  "kernelspec": {
   "display_name": "Python 3",
   "language": "python",
   "name": "python3"
  },
  "language_info": {
   "codemirror_mode": {
    "name": "ipython",
    "version": 3
   },
   "file_extension": ".py",
   "mimetype": "text/x-python",
   "name": "python",
   "nbconvert_exporter": "python",
   "pygments_lexer": "ipython3",
   "version": "3.6.10"
  }
 },
 "nbformat": 4,
 "nbformat_minor": 4
}

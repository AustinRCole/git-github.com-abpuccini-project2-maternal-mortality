{
 "cells": [
  {
   "cell_type": "code",
   "execution_count": 1,
   "metadata": {
    "scrolled": true
   },
   "outputs": [],
   "source": [
    "# Dependencies and Setup\n",
    "import pandas as pd\n",
    "\n",
    "from sqlalchemy import create_engine\n",
    "from sqlalchemy.ext.declarative import declarative_base\n",
    "from sqlalchemy import Column, Integer, String, Float\n",
    "from sqlalchemy.orm import Session\n",
    "\n",
    "from config import username, password, host, database"
   ]
  },
  {
   "cell_type": "code",
   "execution_count": 2,
   "metadata": {
    "scrolled": true
   },
   "outputs": [
    {
     "data": {
      "text/html": [
       "<div>\n",
       "<style scoped>\n",
       "    .dataframe tbody tr th:only-of-type {\n",
       "        vertical-align: middle;\n",
       "    }\n",
       "\n",
       "    .dataframe tbody tr th {\n",
       "        vertical-align: top;\n",
       "    }\n",
       "\n",
       "    .dataframe thead th {\n",
       "        text-align: right;\n",
       "    }\n",
       "</style>\n",
       "<table border=\"1\" class=\"dataframe\">\n",
       "  <thead>\n",
       "    <tr style=\"text-align: right;\">\n",
       "      <th></th>\n",
       "      <th>name</th>\n",
       "      <th>id</th>\n",
       "      <th>mmr</th>\n",
       "      <th>ranking</th>\n",
       "      <th>category</th>\n",
       "      <th>latitude</th>\n",
       "      <th>longitude</th>\n",
       "    </tr>\n",
       "  </thead>\n",
       "  <tbody>\n",
       "    <tr>\n",
       "      <th>0</th>\n",
       "      <td>Belarus</td>\n",
       "      <td>BY</td>\n",
       "      <td>2</td>\n",
       "      <td>1</td>\n",
       "      <td>Very Low (&lt;100)</td>\n",
       "      <td>53.7440</td>\n",
       "      <td>27.9470</td>\n",
       "    </tr>\n",
       "    <tr>\n",
       "      <th>1</th>\n",
       "      <td>Italy</td>\n",
       "      <td>IT</td>\n",
       "      <td>2</td>\n",
       "      <td>1</td>\n",
       "      <td>Very Low (&lt;100)</td>\n",
       "      <td>45.3889</td>\n",
       "      <td>10.7776</td>\n",
       "    </tr>\n",
       "    <tr>\n",
       "      <th>2</th>\n",
       "      <td>Norway</td>\n",
       "      <td>NO</td>\n",
       "      <td>2</td>\n",
       "      <td>1</td>\n",
       "      <td>Very Low (&lt;100)</td>\n",
       "      <td>60.5366</td>\n",
       "      <td>7.4496</td>\n",
       "    </tr>\n",
       "    <tr>\n",
       "      <th>3</th>\n",
       "      <td>Poland</td>\n",
       "      <td>PL</td>\n",
       "      <td>2</td>\n",
       "      <td>1</td>\n",
       "      <td>Very Low (&lt;100)</td>\n",
       "      <td>52.1484</td>\n",
       "      <td>19.3110</td>\n",
       "    </tr>\n",
       "    <tr>\n",
       "      <th>4</th>\n",
       "      <td>Czech Republic</td>\n",
       "      <td>CZ</td>\n",
       "      <td>3</td>\n",
       "      <td>5</td>\n",
       "      <td>Very Low (&lt;100)</td>\n",
       "      <td>49.8360</td>\n",
       "      <td>15.5465</td>\n",
       "    </tr>\n",
       "  </tbody>\n",
       "</table>\n",
       "</div>"
      ],
      "text/plain": [
       "             name  id  mmr  ranking         category  latitude  longitude\n",
       "0         Belarus  BY    2        1  Very Low (<100)   53.7440    27.9470\n",
       "1           Italy  IT    2        1  Very Low (<100)   45.3889    10.7776\n",
       "2          Norway  NO    2        1  Very Low (<100)   60.5366     7.4496\n",
       "3          Poland  PL    2        1  Very Low (<100)   52.1484    19.3110\n",
       "4  Czech Republic  CZ    3        5  Very Low (<100)   49.8360    15.5465"
      ]
     },
     "execution_count": 2,
     "metadata": {},
     "output_type": "execute_result"
    }
   ],
   "source": [
    "# File path\n",
    "global_filepath = '../output_file/mmr_global.csv'\n",
    "\n",
    "# Read in csv file\n",
    "mmr_global_df = pd.read_csv(global_filepath)\n",
    "\n",
    "# Display dataframe\n",
    "mmr_global_df.head()"
   ]
  },
  {
   "cell_type": "code",
   "execution_count": 3,
   "metadata": {},
   "outputs": [
    {
     "data": {
      "text/plain": [
       "'NA'"
      ]
     },
     "execution_count": 3,
     "metadata": {},
     "output_type": "execute_result"
    }
   ],
   "source": [
    "# Country name known as None > change it to string\n",
    "namibia_index = mmr_global_df.loc[mmr_global_df['name'] == 'Namibia'].index[0]\n",
    "mmr_global_df.loc[namibia_index, 'id'] = str(\"NA\")\n",
    "\n",
    "# Check if the id is correct\n",
    "mmr_global_df.loc[namibia_index, 'id']"
   ]
  },
  {
   "cell_type": "code",
   "execution_count": 4,
   "metadata": {},
   "outputs": [
    {
     "data": {
      "text/plain": [
       "name         185\n",
       "id           185\n",
       "mmr          185\n",
       "ranking      185\n",
       "category     185\n",
       "latitude     185\n",
       "longitude    185\n",
       "dtype: int64"
      ]
     },
     "execution_count": 4,
     "metadata": {},
     "output_type": "execute_result"
    }
   ],
   "source": [
    "# Check if id column is not null\n",
    "mmr_global_df.count()"
   ]
  },
  {
   "cell_type": "markdown",
   "metadata": {},
   "source": [
    "### Connect to PostgresSQL database"
   ]
  },
  {
   "cell_type": "code",
   "execution_count": 5,
   "metadata": {
    "scrolled": true
   },
   "outputs": [],
   "source": [
    "# Sets an object to utilize the default declarative base in SQL Alchemy\n",
    "Base = declarative_base()"
   ]
  },
  {
   "cell_type": "code",
   "execution_count": 6,
   "metadata": {
    "scrolled": true
   },
   "outputs": [],
   "source": [
    "# Create table schema\n",
    "class Global(Base):\n",
    "    __tablename__ = 'mmr_global'\n",
    "    __table_args__ = {'extend_existing': True}\n",
    "    name = Column(String(255), primary_key=True)\n",
    "    id = Column(String(255))\n",
    "    mmr = Column(Integer)\n",
    "    ranking = Column(Integer)\n",
    "    category = Column(String(255))\n",
    "    latitude = Column(Float)\n",
    "    longitude = Column(Float)"
   ]
  },
  {
   "cell_type": "code",
   "execution_count": 7,
   "metadata": {
    "scrolled": true
   },
   "outputs": [],
   "source": [
    "# Create Engine\n",
    "connect_string = f'postgresql://{username}:{password}@{host}/{database}'\n",
    "engine = create_engine(connect_string)"
   ]
  },
  {
   "cell_type": "code",
   "execution_count": 8,
   "metadata": {
    "scrolled": true
   },
   "outputs": [],
   "source": [
    "# Specify table\n",
    "global_table = [Base.metadata.tables['mmr_global']]\n",
    "\n",
    "# Create (if not already in existence) the tables associated with our classes.\n",
    "Base.metadata.create_all(engine, tables=global_table)"
   ]
  },
  {
   "cell_type": "code",
   "execution_count": 9,
   "metadata": {
    "scrolled": true
   },
   "outputs": [],
   "source": [
    "# Store data to SQL database\n",
    "mmr_global_df.to_sql(name='mmr_global', con=engine, if_exists='append', index=False)"
   ]
  },
  {
   "cell_type": "code",
   "execution_count": 10,
   "metadata": {},
   "outputs": [
    {
     "data": {
      "text/html": [
       "<div>\n",
       "<style scoped>\n",
       "    .dataframe tbody tr th:only-of-type {\n",
       "        vertical-align: middle;\n",
       "    }\n",
       "\n",
       "    .dataframe tbody tr th {\n",
       "        vertical-align: top;\n",
       "    }\n",
       "\n",
       "    .dataframe thead th {\n",
       "        text-align: right;\n",
       "    }\n",
       "</style>\n",
       "<table border=\"1\" class=\"dataframe\">\n",
       "  <thead>\n",
       "    <tr style=\"text-align: right;\">\n",
       "      <th></th>\n",
       "      <th>name</th>\n",
       "      <th>id</th>\n",
       "      <th>mmr</th>\n",
       "      <th>ranking</th>\n",
       "      <th>category</th>\n",
       "      <th>latitude</th>\n",
       "      <th>longitude</th>\n",
       "    </tr>\n",
       "  </thead>\n",
       "  <tbody>\n",
       "    <tr>\n",
       "      <th>0</th>\n",
       "      <td>Belarus</td>\n",
       "      <td>BY</td>\n",
       "      <td>2</td>\n",
       "      <td>1</td>\n",
       "      <td>Very Low (&lt;100)</td>\n",
       "      <td>53.7440</td>\n",
       "      <td>27.9470</td>\n",
       "    </tr>\n",
       "    <tr>\n",
       "      <th>1</th>\n",
       "      <td>Italy</td>\n",
       "      <td>IT</td>\n",
       "      <td>2</td>\n",
       "      <td>1</td>\n",
       "      <td>Very Low (&lt;100)</td>\n",
       "      <td>45.3889</td>\n",
       "      <td>10.7776</td>\n",
       "    </tr>\n",
       "    <tr>\n",
       "      <th>2</th>\n",
       "      <td>Norway</td>\n",
       "      <td>NO</td>\n",
       "      <td>2</td>\n",
       "      <td>1</td>\n",
       "      <td>Very Low (&lt;100)</td>\n",
       "      <td>60.5366</td>\n",
       "      <td>7.4496</td>\n",
       "    </tr>\n",
       "    <tr>\n",
       "      <th>3</th>\n",
       "      <td>Poland</td>\n",
       "      <td>PL</td>\n",
       "      <td>2</td>\n",
       "      <td>1</td>\n",
       "      <td>Very Low (&lt;100)</td>\n",
       "      <td>52.1484</td>\n",
       "      <td>19.3110</td>\n",
       "    </tr>\n",
       "    <tr>\n",
       "      <th>4</th>\n",
       "      <td>Czech Republic</td>\n",
       "      <td>CZ</td>\n",
       "      <td>3</td>\n",
       "      <td>5</td>\n",
       "      <td>Very Low (&lt;100)</td>\n",
       "      <td>49.8360</td>\n",
       "      <td>15.5465</td>\n",
       "    </tr>\n",
       "  </tbody>\n",
       "</table>\n",
       "</div>"
      ],
      "text/plain": [
       "             name  id  mmr  ranking         category  latitude  longitude\n",
       "0         Belarus  BY    2        1  Very Low (<100)   53.7440    27.9470\n",
       "1           Italy  IT    2        1  Very Low (<100)   45.3889    10.7776\n",
       "2          Norway  NO    2        1  Very Low (<100)   60.5366     7.4496\n",
       "3          Poland  PL    2        1  Very Low (<100)   52.1484    19.3110\n",
       "4  Czech Republic  CZ    3        5  Very Low (<100)   49.8360    15.5465"
      ]
     },
     "execution_count": 10,
     "metadata": {},
     "output_type": "execute_result"
    }
   ],
   "source": [
    "# Check of the table exists in database\n",
    "mmr_global_sql = pd.read_sql_query('select * from mmr_global', con=engine)\n",
    "mmr_global_sql.head()"
   ]
  },
  {
   "cell_type": "code",
   "execution_count": 11,
   "metadata": {},
   "outputs": [
    {
     "data": {
      "text/plain": [
       "name         185\n",
       "id           185\n",
       "mmr          185\n",
       "ranking      185\n",
       "category     185\n",
       "latitude     185\n",
       "longitude    185\n",
       "dtype: int64"
      ]
     },
     "execution_count": 11,
     "metadata": {},
     "output_type": "execute_result"
    }
   ],
   "source": [
    "# Check if data consistency\n",
    "mmr_global_sql.count()"
   ]
  },
  {
   "cell_type": "code",
   "execution_count": null,
   "metadata": {},
   "outputs": [],
   "source": []
  }
 ],
 "metadata": {
  "kernelspec": {
   "display_name": "Python 3",
   "language": "python",
   "name": "python3"
  },
  "language_info": {
   "codemirror_mode": {
    "name": "ipython",
    "version": 3
   },
   "file_extension": ".py",
   "mimetype": "text/x-python",
   "name": "python",
   "nbconvert_exporter": "python",
   "pygments_lexer": "ipython3",
   "version": "3.6.10"
  }
 },
 "nbformat": 4,
 "nbformat_minor": 4
}
